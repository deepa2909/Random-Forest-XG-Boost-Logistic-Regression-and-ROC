{
  "nbformat": 4,
  "nbformat_minor": 0,
  "metadata": {
    "kernelspec": {
      "display_name": "Python 3",
      "language": "python",
      "name": "python3"
    },
    "language_info": {
      "codemirror_mode": {
        "name": "ipython",
        "version": 3
      },
      "file_extension": ".py",
      "mimetype": "text/x-python",
      "name": "python",
      "nbconvert_exporter": "python",
      "pygments_lexer": "ipython3",
      "version": "3.8.3"
    },
    "colab": {
      "name": "Copy of  Assignment 7 .ipynb",
      "provenance": [],
      "collapsed_sections": [],
      "machine_shape": "hm",
      "include_colab_link": true
    },
    "accelerator": "TPU"
  },
  "cells": [
    {
      "cell_type": "markdown",
      "metadata": {
        "id": "view-in-github",
        "colab_type": "text"
      },
      "source": [
        "<a href=\"https://colab.research.google.com/github/deepa2909/Random-Forest-XG-Boost-Logistic-Regression-and-ROC/blob/main/Random-Forest-XG-Boost-Logistic-Regression-and-ROC.ipynb\" target=\"_parent\"><img src=\"https://colab.research.google.com/assets/colab-badge.svg\" alt=\"Open In Colab\"/></a>"
      ]
    },
    {
      "cell_type": "markdown",
      "metadata": {
        "id": "dsXKJTqTffsM"
      },
      "source": [
        "This task uses logistic regression model  to predict Personal Loan target for the Universal Bank data. The performance of this model will be compared with the previously created models on the same data set and \n",
        "Based on the performance of the models recommendations will be made. \n",
        "\n",
        "\n",
        "\n",
        "\n"
      ]
    },
    {
      "cell_type": "code",
      "metadata": {
        "id": "RSGjQlyp5_5v"
      },
      "source": [
        ""
      ],
      "execution_count": null,
      "outputs": []
    },
    {
      "cell_type": "markdown",
      "metadata": {
        "id": "-tuXRZKEYrDa"
      },
      "source": [
        "## Introduction and Overview\n"
      ]
    },
    {
      "cell_type": "markdown",
      "metadata": {
        "id": "LeG3a2r0Z_i9"
      },
      "source": [
        "\n",
        "\n",
        "In this, we are using Universal Bank data set to predict wheather a customer will be potential customer for personal loan requirement for the bank or not. In this section, we will be creating, training and validating the logistic regression model."
      ]
    },
    {
      "cell_type": "markdown",
      "metadata": {
        "id": "kmYLcm3aY8X5"
      },
      "source": [
        "## Step 1: Install and import necessary packages"
      ]
    },
    {
      "cell_type": "code",
      "metadata": {
        "id": "8zNdljvIhuc8"
      },
      "source": [
        "# import packages\n",
        "import pandas as pd\n",
        "from sklearn.model_selection import train_test_split\n",
        "import matplotlib.pylab as plt\n",
        "from sklearn.linear_model import LogisticRegression\n",
        "from sklearn.metrics import confusion_matrix, accuracy_score, precision_score, recall_score, f1_score\n",
        "from sklearn.model_selection import GridSearchCV, RandomizedSearchCV\n",
        "from sklearn.metrics import roc_curve, roc_auc_score, precision_recall_curve\n",
        "from sklearn.preprocessing import LabelEncoder\n",
        "from sklearn import preprocessing\n",
        "import numpy as np"
      ],
      "execution_count": null,
      "outputs": []
    },
    {
      "cell_type": "markdown",
      "metadata": {
        "id": "TmP3fttHqieO"
      },
      "source": [
        "## Step 2: Load, clean and prepare data\n"
      ]
    },
    {
      "cell_type": "markdown",
      "metadata": {
        "id": "sGgrXNQPZT3J"
      },
      "source": [
        "### 2.1 Read data (UniversalBank.csv)"
      ]
    },
    {
      "cell_type": "code",
      "metadata": {
        "id": "q3u5LsGyhudA"
      },
      "source": [
        "bank_df = pd.read_csv(\"https://raw.githubusercontent.com/timcsmith/MIS536-Public/master/Data/UniversalBank.csv\")"
      ],
      "execution_count": null,
      "outputs": []
    },
    {
      "cell_type": "markdown",
      "metadata": {
        "id": "2aOH_GFGZZFx"
      },
      "source": [
        "### 2.2 Explore the dataset"
      ]
    },
    {
      "cell_type": "code",
      "metadata": {
        "id": "OkUM_mnHhudC",
        "colab": {
          "base_uri": "https://localhost:8080/"
        },
        "outputId": "c5defd9a-5ad1-4119-dd8c-626ec48cd439"
      },
      "source": [
        "# Explore the dataset\n",
        "# read the first row of the dataset \n",
        "print(bank_df.head())\n",
        "print(bank_df.columns)\n",
        "print(bank_df.describe())\n",
        "print(bank_df.info())"
      ],
      "execution_count": null,
      "outputs": [
        {
          "output_type": "stream",
          "text": [
            "   ID  Age  Experience  ...  CD Account  Online  CreditCard\n",
            "0   1   25           1  ...           0       0           0\n",
            "1   2   45          19  ...           0       0           0\n",
            "2   3   39          15  ...           0       0           0\n",
            "3   4   35           9  ...           0       0           0\n",
            "4   5   35           8  ...           0       0           1\n",
            "\n",
            "[5 rows x 14 columns]\n",
            "Index(['ID', 'Age', 'Experience', 'Income', 'ZIP Code', 'Family', 'CCAvg',\n",
            "       'Education', 'Mortgage', 'Personal Loan', 'Securities Account',\n",
            "       'CD Account', 'Online', 'CreditCard'],\n",
            "      dtype='object')\n",
            "                ID          Age  ...       Online   CreditCard\n",
            "count  5000.000000  5000.000000  ...  5000.000000  5000.000000\n",
            "mean   2500.500000    45.338400  ...     0.596800     0.294000\n",
            "std    1443.520003    11.463166  ...     0.490589     0.455637\n",
            "min       1.000000    23.000000  ...     0.000000     0.000000\n",
            "25%    1250.750000    35.000000  ...     0.000000     0.000000\n",
            "50%    2500.500000    45.000000  ...     1.000000     0.000000\n",
            "75%    3750.250000    55.000000  ...     1.000000     1.000000\n",
            "max    5000.000000    67.000000  ...     1.000000     1.000000\n",
            "\n",
            "[8 rows x 14 columns]\n",
            "<class 'pandas.core.frame.DataFrame'>\n",
            "RangeIndex: 5000 entries, 0 to 4999\n",
            "Data columns (total 14 columns):\n",
            " #   Column              Non-Null Count  Dtype  \n",
            "---  ------              --------------  -----  \n",
            " 0   ID                  5000 non-null   int64  \n",
            " 1   Age                 5000 non-null   int64  \n",
            " 2   Experience          5000 non-null   int64  \n",
            " 3   Income              5000 non-null   int64  \n",
            " 4   ZIP Code            5000 non-null   int64  \n",
            " 5   Family              5000 non-null   int64  \n",
            " 6   CCAvg               5000 non-null   float64\n",
            " 7   Education           5000 non-null   int64  \n",
            " 8   Mortgage            5000 non-null   int64  \n",
            " 9   Personal Loan       5000 non-null   int64  \n",
            " 10  Securities Account  5000 non-null   int64  \n",
            " 11  CD Account          5000 non-null   int64  \n",
            " 12  Online              5000 non-null   int64  \n",
            " 13  CreditCard          5000 non-null   int64  \n",
            "dtypes: float64(1), int64(13)\n",
            "memory usage: 547.0 KB\n",
            "None\n"
          ],
          "name": "stdout"
        }
      ]
    },
    {
      "cell_type": "markdown",
      "metadata": {
        "id": "AiaaNFX2Zf-I"
      },
      "source": [
        "### 2.3 Clean/transform data (where necessary)"
      ]
    },
    {
      "cell_type": "code",
      "metadata": {
        "id": "3JuJlVGDkINJ",
        "colab": {
          "base_uri": "https://localhost:8080/",
          "height": 202
        },
        "outputId": "33dd3b26-463a-43ba-a169-95ff2c127cf6"
      },
      "source": [
        "# based on findings from data exploration, we need to clean up colum names\n",
        "bank_df.columns = [s.strip().replace(' ','_') for s in bank_df.columns] # list comprehension, all columns\n",
        "bank_df.head()"
      ],
      "execution_count": null,
      "outputs": [
        {
          "output_type": "execute_result",
          "data": {
            "text/html": [
              "<div>\n",
              "<style scoped>\n",
              "    .dataframe tbody tr th:only-of-type {\n",
              "        vertical-align: middle;\n",
              "    }\n",
              "\n",
              "    .dataframe tbody tr th {\n",
              "        vertical-align: top;\n",
              "    }\n",
              "\n",
              "    .dataframe thead th {\n",
              "        text-align: right;\n",
              "    }\n",
              "</style>\n",
              "<table border=\"1\" class=\"dataframe\">\n",
              "  <thead>\n",
              "    <tr style=\"text-align: right;\">\n",
              "      <th></th>\n",
              "      <th>ID</th>\n",
              "      <th>Age</th>\n",
              "      <th>Experience</th>\n",
              "      <th>Income</th>\n",
              "      <th>ZIP_Code</th>\n",
              "      <th>Family</th>\n",
              "      <th>CCAvg</th>\n",
              "      <th>Education</th>\n",
              "      <th>Mortgage</th>\n",
              "      <th>Personal_Loan</th>\n",
              "      <th>Securities_Account</th>\n",
              "      <th>CD_Account</th>\n",
              "      <th>Online</th>\n",
              "      <th>CreditCard</th>\n",
              "    </tr>\n",
              "  </thead>\n",
              "  <tbody>\n",
              "    <tr>\n",
              "      <th>0</th>\n",
              "      <td>1</td>\n",
              "      <td>25</td>\n",
              "      <td>1</td>\n",
              "      <td>49</td>\n",
              "      <td>91107</td>\n",
              "      <td>4</td>\n",
              "      <td>1.6</td>\n",
              "      <td>1</td>\n",
              "      <td>0</td>\n",
              "      <td>0</td>\n",
              "      <td>1</td>\n",
              "      <td>0</td>\n",
              "      <td>0</td>\n",
              "      <td>0</td>\n",
              "    </tr>\n",
              "    <tr>\n",
              "      <th>1</th>\n",
              "      <td>2</td>\n",
              "      <td>45</td>\n",
              "      <td>19</td>\n",
              "      <td>34</td>\n",
              "      <td>90089</td>\n",
              "      <td>3</td>\n",
              "      <td>1.5</td>\n",
              "      <td>1</td>\n",
              "      <td>0</td>\n",
              "      <td>0</td>\n",
              "      <td>1</td>\n",
              "      <td>0</td>\n",
              "      <td>0</td>\n",
              "      <td>0</td>\n",
              "    </tr>\n",
              "    <tr>\n",
              "      <th>2</th>\n",
              "      <td>3</td>\n",
              "      <td>39</td>\n",
              "      <td>15</td>\n",
              "      <td>11</td>\n",
              "      <td>94720</td>\n",
              "      <td>1</td>\n",
              "      <td>1.0</td>\n",
              "      <td>1</td>\n",
              "      <td>0</td>\n",
              "      <td>0</td>\n",
              "      <td>0</td>\n",
              "      <td>0</td>\n",
              "      <td>0</td>\n",
              "      <td>0</td>\n",
              "    </tr>\n",
              "    <tr>\n",
              "      <th>3</th>\n",
              "      <td>4</td>\n",
              "      <td>35</td>\n",
              "      <td>9</td>\n",
              "      <td>100</td>\n",
              "      <td>94112</td>\n",
              "      <td>1</td>\n",
              "      <td>2.7</td>\n",
              "      <td>2</td>\n",
              "      <td>0</td>\n",
              "      <td>0</td>\n",
              "      <td>0</td>\n",
              "      <td>0</td>\n",
              "      <td>0</td>\n",
              "      <td>0</td>\n",
              "    </tr>\n",
              "    <tr>\n",
              "      <th>4</th>\n",
              "      <td>5</td>\n",
              "      <td>35</td>\n",
              "      <td>8</td>\n",
              "      <td>45</td>\n",
              "      <td>91330</td>\n",
              "      <td>4</td>\n",
              "      <td>1.0</td>\n",
              "      <td>2</td>\n",
              "      <td>0</td>\n",
              "      <td>0</td>\n",
              "      <td>0</td>\n",
              "      <td>0</td>\n",
              "      <td>0</td>\n",
              "      <td>1</td>\n",
              "    </tr>\n",
              "  </tbody>\n",
              "</table>\n",
              "</div>"
            ],
            "text/plain": [
              "   ID  Age  Experience  ...  CD_Account  Online  CreditCard\n",
              "0   1   25           1  ...           0       0           0\n",
              "1   2   45          19  ...           0       0           0\n",
              "2   3   39          15  ...           0       0           0\n",
              "3   4   35           9  ...           0       0           0\n",
              "4   5   35           8  ...           0       0           1\n",
              "\n",
              "[5 rows x 14 columns]"
            ]
          },
          "metadata": {
            "tags": []
          },
          "execution_count": 4
        }
      ]
    },
    {
      "cell_type": "code",
      "metadata": {
        "id": "KyUKMZqohudE",
        "colab": {
          "base_uri": "https://localhost:8080/",
          "height": 314
        },
        "outputId": "14862f8c-a023-428a-9426-2e19803aa188"
      },
      "source": [
        "#replace negative min experience value to 0.\n",
        "bank_df[bank_df['Experience']<0] =0\n",
        "bank_df.describe()"
      ],
      "execution_count": null,
      "outputs": [
        {
          "output_type": "execute_result",
          "data": {
            "text/html": [
              "<div>\n",
              "<style scoped>\n",
              "    .dataframe tbody tr th:only-of-type {\n",
              "        vertical-align: middle;\n",
              "    }\n",
              "\n",
              "    .dataframe tbody tr th {\n",
              "        vertical-align: top;\n",
              "    }\n",
              "\n",
              "    .dataframe thead th {\n",
              "        text-align: right;\n",
              "    }\n",
              "</style>\n",
              "<table border=\"1\" class=\"dataframe\">\n",
              "  <thead>\n",
              "    <tr style=\"text-align: right;\">\n",
              "      <th></th>\n",
              "      <th>ID</th>\n",
              "      <th>Age</th>\n",
              "      <th>Experience</th>\n",
              "      <th>Income</th>\n",
              "      <th>ZIP_Code</th>\n",
              "      <th>Family</th>\n",
              "      <th>CCAvg</th>\n",
              "      <th>Education</th>\n",
              "      <th>Mortgage</th>\n",
              "      <th>Personal_Loan</th>\n",
              "      <th>Securities_Account</th>\n",
              "      <th>CD_Account</th>\n",
              "      <th>Online</th>\n",
              "      <th>CreditCard</th>\n",
              "    </tr>\n",
              "  </thead>\n",
              "  <tbody>\n",
              "    <tr>\n",
              "      <th>count</th>\n",
              "      <td>5000.000000</td>\n",
              "      <td>5000.000000</td>\n",
              "      <td>5000.000000</td>\n",
              "      <td>5000.000000</td>\n",
              "      <td>5000.000000</td>\n",
              "      <td>5000.000000</td>\n",
              "      <td>5000.000000</td>\n",
              "      <td>5000.000000</td>\n",
              "      <td>5000.000000</td>\n",
              "      <td>5000.000000</td>\n",
              "      <td>5000.00000</td>\n",
              "      <td>5000.00000</td>\n",
              "      <td>5000.000000</td>\n",
              "      <td>5000.000000</td>\n",
              "    </tr>\n",
              "    <tr>\n",
              "      <th>mean</th>\n",
              "      <td>2475.255600</td>\n",
              "      <td>45.083400</td>\n",
              "      <td>20.119600</td>\n",
              "      <td>73.046800</td>\n",
              "      <td>92182.797000</td>\n",
              "      <td>2.366600</td>\n",
              "      <td>1.915792</td>\n",
              "      <td>1.859400</td>\n",
              "      <td>56.045400</td>\n",
              "      <td>0.096000</td>\n",
              "      <td>0.10320</td>\n",
              "      <td>0.06040</td>\n",
              "      <td>0.590800</td>\n",
              "      <td>0.291000</td>\n",
              "    </tr>\n",
              "    <tr>\n",
              "      <th>std</th>\n",
              "      <td>1458.007058</td>\n",
              "      <td>12.173351</td>\n",
              "      <td>11.440484</td>\n",
              "      <td>46.479457</td>\n",
              "      <td>9684.939581</td>\n",
              "      <td>1.167937</td>\n",
              "      <td>1.749641</td>\n",
              "      <td>0.856842</td>\n",
              "      <td>101.460724</td>\n",
              "      <td>0.294621</td>\n",
              "      <td>0.30425</td>\n",
              "      <td>0.23825</td>\n",
              "      <td>0.491735</td>\n",
              "      <td>0.454269</td>\n",
              "    </tr>\n",
              "    <tr>\n",
              "      <th>min</th>\n",
              "      <td>0.000000</td>\n",
              "      <td>0.000000</td>\n",
              "      <td>0.000000</td>\n",
              "      <td>0.000000</td>\n",
              "      <td>0.000000</td>\n",
              "      <td>0.000000</td>\n",
              "      <td>0.000000</td>\n",
              "      <td>0.000000</td>\n",
              "      <td>0.000000</td>\n",
              "      <td>0.000000</td>\n",
              "      <td>0.00000</td>\n",
              "      <td>0.00000</td>\n",
              "      <td>0.000000</td>\n",
              "      <td>0.000000</td>\n",
              "    </tr>\n",
              "    <tr>\n",
              "      <th>25%</th>\n",
              "      <td>1215.750000</td>\n",
              "      <td>35.000000</td>\n",
              "      <td>10.000000</td>\n",
              "      <td>38.000000</td>\n",
              "      <td>91775.000000</td>\n",
              "      <td>1.000000</td>\n",
              "      <td>0.670000</td>\n",
              "      <td>1.000000</td>\n",
              "      <td>0.000000</td>\n",
              "      <td>0.000000</td>\n",
              "      <td>0.00000</td>\n",
              "      <td>0.00000</td>\n",
              "      <td>0.000000</td>\n",
              "      <td>0.000000</td>\n",
              "    </tr>\n",
              "    <tr>\n",
              "      <th>50%</th>\n",
              "      <td>2471.500000</td>\n",
              "      <td>45.000000</td>\n",
              "      <td>20.000000</td>\n",
              "      <td>63.000000</td>\n",
              "      <td>93407.000000</td>\n",
              "      <td>2.000000</td>\n",
              "      <td>1.500000</td>\n",
              "      <td>2.000000</td>\n",
              "      <td>0.000000</td>\n",
              "      <td>0.000000</td>\n",
              "      <td>0.00000</td>\n",
              "      <td>0.00000</td>\n",
              "      <td>1.000000</td>\n",
              "      <td>0.000000</td>\n",
              "    </tr>\n",
              "    <tr>\n",
              "      <th>75%</th>\n",
              "      <td>3737.250000</td>\n",
              "      <td>55.000000</td>\n",
              "      <td>30.000000</td>\n",
              "      <td>98.000000</td>\n",
              "      <td>94608.000000</td>\n",
              "      <td>3.000000</td>\n",
              "      <td>2.500000</td>\n",
              "      <td>3.000000</td>\n",
              "      <td>100.000000</td>\n",
              "      <td>0.000000</td>\n",
              "      <td>0.00000</td>\n",
              "      <td>0.00000</td>\n",
              "      <td>1.000000</td>\n",
              "      <td>1.000000</td>\n",
              "    </tr>\n",
              "    <tr>\n",
              "      <th>max</th>\n",
              "      <td>5000.000000</td>\n",
              "      <td>67.000000</td>\n",
              "      <td>43.000000</td>\n",
              "      <td>224.000000</td>\n",
              "      <td>96651.000000</td>\n",
              "      <td>4.000000</td>\n",
              "      <td>10.000000</td>\n",
              "      <td>3.000000</td>\n",
              "      <td>635.000000</td>\n",
              "      <td>1.000000</td>\n",
              "      <td>1.00000</td>\n",
              "      <td>1.00000</td>\n",
              "      <td>1.000000</td>\n",
              "      <td>1.000000</td>\n",
              "    </tr>\n",
              "  </tbody>\n",
              "</table>\n",
              "</div>"
            ],
            "text/plain": [
              "                ID          Age  ...       Online   CreditCard\n",
              "count  5000.000000  5000.000000  ...  5000.000000  5000.000000\n",
              "mean   2475.255600    45.083400  ...     0.590800     0.291000\n",
              "std    1458.007058    12.173351  ...     0.491735     0.454269\n",
              "min       0.000000     0.000000  ...     0.000000     0.000000\n",
              "25%    1215.750000    35.000000  ...     0.000000     0.000000\n",
              "50%    2471.500000    45.000000  ...     1.000000     0.000000\n",
              "75%    3737.250000    55.000000  ...     1.000000     1.000000\n",
              "max    5000.000000    67.000000  ...     1.000000     1.000000\n",
              "\n",
              "[8 rows x 14 columns]"
            ]
          },
          "metadata": {
            "tags": []
          },
          "execution_count": 5
        }
      ]
    },
    {
      "cell_type": "markdown",
      "metadata": {
        "id": "3X38Jf-d7AID"
      },
      "source": [
        "Drop ID and Zip code columns"
      ]
    },
    {
      "cell_type": "code",
      "metadata": {
        "id": "mncMIw8C9JqF",
        "colab": {
          "base_uri": "https://localhost:8080/",
          "height": 415
        },
        "outputId": "529c5109-452d-41ea-d029-1c8593e18471"
      },
      "source": [
        "\n",
        "bank_df = bank_df.drop(columns=['ID', 'ZIP_Code'])\n",
        "bank_df"
      ],
      "execution_count": null,
      "outputs": [
        {
          "output_type": "execute_result",
          "data": {
            "text/html": [
              "<div>\n",
              "<style scoped>\n",
              "    .dataframe tbody tr th:only-of-type {\n",
              "        vertical-align: middle;\n",
              "    }\n",
              "\n",
              "    .dataframe tbody tr th {\n",
              "        vertical-align: top;\n",
              "    }\n",
              "\n",
              "    .dataframe thead th {\n",
              "        text-align: right;\n",
              "    }\n",
              "</style>\n",
              "<table border=\"1\" class=\"dataframe\">\n",
              "  <thead>\n",
              "    <tr style=\"text-align: right;\">\n",
              "      <th></th>\n",
              "      <th>Age</th>\n",
              "      <th>Experience</th>\n",
              "      <th>Income</th>\n",
              "      <th>Family</th>\n",
              "      <th>CCAvg</th>\n",
              "      <th>Education</th>\n",
              "      <th>Mortgage</th>\n",
              "      <th>Personal_Loan</th>\n",
              "      <th>Securities_Account</th>\n",
              "      <th>CD_Account</th>\n",
              "      <th>Online</th>\n",
              "      <th>CreditCard</th>\n",
              "    </tr>\n",
              "  </thead>\n",
              "  <tbody>\n",
              "    <tr>\n",
              "      <th>0</th>\n",
              "      <td>25</td>\n",
              "      <td>1</td>\n",
              "      <td>49</td>\n",
              "      <td>4</td>\n",
              "      <td>1.6</td>\n",
              "      <td>1</td>\n",
              "      <td>0</td>\n",
              "      <td>0</td>\n",
              "      <td>1</td>\n",
              "      <td>0</td>\n",
              "      <td>0</td>\n",
              "      <td>0</td>\n",
              "    </tr>\n",
              "    <tr>\n",
              "      <th>1</th>\n",
              "      <td>45</td>\n",
              "      <td>19</td>\n",
              "      <td>34</td>\n",
              "      <td>3</td>\n",
              "      <td>1.5</td>\n",
              "      <td>1</td>\n",
              "      <td>0</td>\n",
              "      <td>0</td>\n",
              "      <td>1</td>\n",
              "      <td>0</td>\n",
              "      <td>0</td>\n",
              "      <td>0</td>\n",
              "    </tr>\n",
              "    <tr>\n",
              "      <th>2</th>\n",
              "      <td>39</td>\n",
              "      <td>15</td>\n",
              "      <td>11</td>\n",
              "      <td>1</td>\n",
              "      <td>1.0</td>\n",
              "      <td>1</td>\n",
              "      <td>0</td>\n",
              "      <td>0</td>\n",
              "      <td>0</td>\n",
              "      <td>0</td>\n",
              "      <td>0</td>\n",
              "      <td>0</td>\n",
              "    </tr>\n",
              "    <tr>\n",
              "      <th>3</th>\n",
              "      <td>35</td>\n",
              "      <td>9</td>\n",
              "      <td>100</td>\n",
              "      <td>1</td>\n",
              "      <td>2.7</td>\n",
              "      <td>2</td>\n",
              "      <td>0</td>\n",
              "      <td>0</td>\n",
              "      <td>0</td>\n",
              "      <td>0</td>\n",
              "      <td>0</td>\n",
              "      <td>0</td>\n",
              "    </tr>\n",
              "    <tr>\n",
              "      <th>4</th>\n",
              "      <td>35</td>\n",
              "      <td>8</td>\n",
              "      <td>45</td>\n",
              "      <td>4</td>\n",
              "      <td>1.0</td>\n",
              "      <td>2</td>\n",
              "      <td>0</td>\n",
              "      <td>0</td>\n",
              "      <td>0</td>\n",
              "      <td>0</td>\n",
              "      <td>0</td>\n",
              "      <td>1</td>\n",
              "    </tr>\n",
              "    <tr>\n",
              "      <th>...</th>\n",
              "      <td>...</td>\n",
              "      <td>...</td>\n",
              "      <td>...</td>\n",
              "      <td>...</td>\n",
              "      <td>...</td>\n",
              "      <td>...</td>\n",
              "      <td>...</td>\n",
              "      <td>...</td>\n",
              "      <td>...</td>\n",
              "      <td>...</td>\n",
              "      <td>...</td>\n",
              "      <td>...</td>\n",
              "    </tr>\n",
              "    <tr>\n",
              "      <th>4995</th>\n",
              "      <td>29</td>\n",
              "      <td>3</td>\n",
              "      <td>40</td>\n",
              "      <td>1</td>\n",
              "      <td>1.9</td>\n",
              "      <td>3</td>\n",
              "      <td>0</td>\n",
              "      <td>0</td>\n",
              "      <td>0</td>\n",
              "      <td>0</td>\n",
              "      <td>1</td>\n",
              "      <td>0</td>\n",
              "    </tr>\n",
              "    <tr>\n",
              "      <th>4996</th>\n",
              "      <td>30</td>\n",
              "      <td>4</td>\n",
              "      <td>15</td>\n",
              "      <td>4</td>\n",
              "      <td>0.4</td>\n",
              "      <td>1</td>\n",
              "      <td>85</td>\n",
              "      <td>0</td>\n",
              "      <td>0</td>\n",
              "      <td>0</td>\n",
              "      <td>1</td>\n",
              "      <td>0</td>\n",
              "    </tr>\n",
              "    <tr>\n",
              "      <th>4997</th>\n",
              "      <td>63</td>\n",
              "      <td>39</td>\n",
              "      <td>24</td>\n",
              "      <td>2</td>\n",
              "      <td>0.3</td>\n",
              "      <td>3</td>\n",
              "      <td>0</td>\n",
              "      <td>0</td>\n",
              "      <td>0</td>\n",
              "      <td>0</td>\n",
              "      <td>0</td>\n",
              "      <td>0</td>\n",
              "    </tr>\n",
              "    <tr>\n",
              "      <th>4998</th>\n",
              "      <td>65</td>\n",
              "      <td>40</td>\n",
              "      <td>49</td>\n",
              "      <td>3</td>\n",
              "      <td>0.5</td>\n",
              "      <td>2</td>\n",
              "      <td>0</td>\n",
              "      <td>0</td>\n",
              "      <td>0</td>\n",
              "      <td>0</td>\n",
              "      <td>1</td>\n",
              "      <td>0</td>\n",
              "    </tr>\n",
              "    <tr>\n",
              "      <th>4999</th>\n",
              "      <td>28</td>\n",
              "      <td>4</td>\n",
              "      <td>83</td>\n",
              "      <td>3</td>\n",
              "      <td>0.8</td>\n",
              "      <td>1</td>\n",
              "      <td>0</td>\n",
              "      <td>0</td>\n",
              "      <td>0</td>\n",
              "      <td>0</td>\n",
              "      <td>1</td>\n",
              "      <td>1</td>\n",
              "    </tr>\n",
              "  </tbody>\n",
              "</table>\n",
              "<p>5000 rows × 12 columns</p>\n",
              "</div>"
            ],
            "text/plain": [
              "      Age  Experience  Income  ...  CD_Account  Online  CreditCard\n",
              "0      25           1      49  ...           0       0           0\n",
              "1      45          19      34  ...           0       0           0\n",
              "2      39          15      11  ...           0       0           0\n",
              "3      35           9     100  ...           0       0           0\n",
              "4      35           8      45  ...           0       0           1\n",
              "...   ...         ...     ...  ...         ...     ...         ...\n",
              "4995   29           3      40  ...           0       1           0\n",
              "4996   30           4      15  ...           0       1           0\n",
              "4997   63          39      24  ...           0       0           0\n",
              "4998   65          40      49  ...           0       1           0\n",
              "4999   28           4      83  ...           0       1           1\n",
              "\n",
              "[5000 rows x 12 columns]"
            ]
          },
          "metadata": {
            "tags": []
          },
          "execution_count": 6
        }
      ]
    },
    {
      "cell_type": "markdown",
      "metadata": {
        "id": "m9b5tbE17Jxt"
      },
      "source": [
        "Create dummy variables for categorical variable Education"
      ]
    },
    {
      "cell_type": "code",
      "metadata": {
        "id": "q-ipi3bC9SuX",
        "colab": {
          "base_uri": "https://localhost:8080/",
          "height": 222
        },
        "outputId": "1663fd86-476d-4094-d979-671a80768b56"
      },
      "source": [
        "\n",
        "bank_df[\"Education\"] = bank_df[\"Education\"].astype('category')\n",
        "bank_df = pd.get_dummies(bank_df, prefix_sep= '_', drop_first= False)\n",
        "bank_df.head()"
      ],
      "execution_count": null,
      "outputs": [
        {
          "output_type": "execute_result",
          "data": {
            "text/html": [
              "<div>\n",
              "<style scoped>\n",
              "    .dataframe tbody tr th:only-of-type {\n",
              "        vertical-align: middle;\n",
              "    }\n",
              "\n",
              "    .dataframe tbody tr th {\n",
              "        vertical-align: top;\n",
              "    }\n",
              "\n",
              "    .dataframe thead th {\n",
              "        text-align: right;\n",
              "    }\n",
              "</style>\n",
              "<table border=\"1\" class=\"dataframe\">\n",
              "  <thead>\n",
              "    <tr style=\"text-align: right;\">\n",
              "      <th></th>\n",
              "      <th>Age</th>\n",
              "      <th>Experience</th>\n",
              "      <th>Income</th>\n",
              "      <th>Family</th>\n",
              "      <th>CCAvg</th>\n",
              "      <th>Mortgage</th>\n",
              "      <th>Personal_Loan</th>\n",
              "      <th>Securities_Account</th>\n",
              "      <th>CD_Account</th>\n",
              "      <th>Online</th>\n",
              "      <th>CreditCard</th>\n",
              "      <th>Education_0</th>\n",
              "      <th>Education_1</th>\n",
              "      <th>Education_2</th>\n",
              "      <th>Education_3</th>\n",
              "    </tr>\n",
              "  </thead>\n",
              "  <tbody>\n",
              "    <tr>\n",
              "      <th>0</th>\n",
              "      <td>25</td>\n",
              "      <td>1</td>\n",
              "      <td>49</td>\n",
              "      <td>4</td>\n",
              "      <td>1.6</td>\n",
              "      <td>0</td>\n",
              "      <td>0</td>\n",
              "      <td>1</td>\n",
              "      <td>0</td>\n",
              "      <td>0</td>\n",
              "      <td>0</td>\n",
              "      <td>0</td>\n",
              "      <td>1</td>\n",
              "      <td>0</td>\n",
              "      <td>0</td>\n",
              "    </tr>\n",
              "    <tr>\n",
              "      <th>1</th>\n",
              "      <td>45</td>\n",
              "      <td>19</td>\n",
              "      <td>34</td>\n",
              "      <td>3</td>\n",
              "      <td>1.5</td>\n",
              "      <td>0</td>\n",
              "      <td>0</td>\n",
              "      <td>1</td>\n",
              "      <td>0</td>\n",
              "      <td>0</td>\n",
              "      <td>0</td>\n",
              "      <td>0</td>\n",
              "      <td>1</td>\n",
              "      <td>0</td>\n",
              "      <td>0</td>\n",
              "    </tr>\n",
              "    <tr>\n",
              "      <th>2</th>\n",
              "      <td>39</td>\n",
              "      <td>15</td>\n",
              "      <td>11</td>\n",
              "      <td>1</td>\n",
              "      <td>1.0</td>\n",
              "      <td>0</td>\n",
              "      <td>0</td>\n",
              "      <td>0</td>\n",
              "      <td>0</td>\n",
              "      <td>0</td>\n",
              "      <td>0</td>\n",
              "      <td>0</td>\n",
              "      <td>1</td>\n",
              "      <td>0</td>\n",
              "      <td>0</td>\n",
              "    </tr>\n",
              "    <tr>\n",
              "      <th>3</th>\n",
              "      <td>35</td>\n",
              "      <td>9</td>\n",
              "      <td>100</td>\n",
              "      <td>1</td>\n",
              "      <td>2.7</td>\n",
              "      <td>0</td>\n",
              "      <td>0</td>\n",
              "      <td>0</td>\n",
              "      <td>0</td>\n",
              "      <td>0</td>\n",
              "      <td>0</td>\n",
              "      <td>0</td>\n",
              "      <td>0</td>\n",
              "      <td>1</td>\n",
              "      <td>0</td>\n",
              "    </tr>\n",
              "    <tr>\n",
              "      <th>4</th>\n",
              "      <td>35</td>\n",
              "      <td>8</td>\n",
              "      <td>45</td>\n",
              "      <td>4</td>\n",
              "      <td>1.0</td>\n",
              "      <td>0</td>\n",
              "      <td>0</td>\n",
              "      <td>0</td>\n",
              "      <td>0</td>\n",
              "      <td>0</td>\n",
              "      <td>1</td>\n",
              "      <td>0</td>\n",
              "      <td>0</td>\n",
              "      <td>1</td>\n",
              "      <td>0</td>\n",
              "    </tr>\n",
              "  </tbody>\n",
              "</table>\n",
              "</div>"
            ],
            "text/plain": [
              "   Age  Experience  Income  ...  Education_1  Education_2  Education_3\n",
              "0   25           1      49  ...            1            0            0\n",
              "1   45          19      34  ...            1            0            0\n",
              "2   39          15      11  ...            1            0            0\n",
              "3   35           9     100  ...            0            1            0\n",
              "4   35           8      45  ...            0            1            0\n",
              "\n",
              "[5 rows x 15 columns]"
            ]
          },
          "metadata": {
            "tags": []
          },
          "execution_count": 7
        }
      ]
    },
    {
      "cell_type": "markdown",
      "metadata": {
        "id": "ZKY30W1pZxCP"
      },
      "source": [
        "## Step 3 Split data intro training and validation sets"
      ]
    },
    {
      "cell_type": "code",
      "metadata": {
        "id": "d0fAfB0ThudG",
        "colab": {
          "base_uri": "https://localhost:8080/"
        },
        "outputId": "74cbf7c8-3526-4eeb-c24f-de7fb01271d4"
      },
      "source": [
        "# construct datasets for analysis\n",
        "target = 'Personal_Loan'\n",
        "predictors = ['Age', 'Experience', 'Income',\t'Family',\t'CCAvg',\t'Mortgage',\t'Securities_Account',\t'CD_Account',\t'Online',\t'CreditCard',\t'Education_0', 'Education_1', 'Education_2']\n",
        "X = bank_df[predictors]\n",
        "X_scaled = preprocessing.scale(X)\n",
        "y = bank_df[target]\n",
        "encoder = LabelEncoder()\n",
        "encoder.fit(y)\n",
        "print(X_scaled)\n",
        "print(y)"
      ],
      "execution_count": null,
      "outputs": [
        {
          "output_type": "stream",
          "text": [
            "[[-1.64994898 -1.67139016 -0.5174158  ... -0.10251486  1.18484014\n",
            "  -0.61958979]\n",
            " [-0.00685172 -0.09787278 -0.8401713  ... -0.10251486  1.18484014\n",
            "  -0.61958979]\n",
            " [-0.4997809  -0.44754331 -1.33506306 ... -0.10251486  1.18484014\n",
            "  -0.61958979]\n",
            " ...\n",
            " [ 1.47193582  1.65047986 -1.05534163 ... -0.10251486 -0.84399572\n",
            "  -0.61958979]\n",
            " [ 1.63624555  1.73789749 -0.5174158  ... -0.10251486 -0.84399572\n",
            "   1.61397109]\n",
            " [-1.40348439 -1.40913726  0.21416334 ... -0.10251486  1.18484014\n",
            "  -0.61958979]]\n",
            "0       0\n",
            "1       0\n",
            "2       0\n",
            "3       0\n",
            "4       0\n",
            "       ..\n",
            "4995    0\n",
            "4996    0\n",
            "4997    0\n",
            "4998    0\n",
            "4999    0\n",
            "Name: Personal_Loan, Length: 5000, dtype: int64\n"
          ],
          "name": "stdout"
        }
      ]
    },
    {
      "cell_type": "markdown",
      "metadata": {
        "id": "xPBUAQgI2-g_"
      },
      "source": [
        "# create the training set and the test set "
      ]
    },
    {
      "cell_type": "code",
      "metadata": {
        "id": "t0DkCAoChudI"
      },
      "source": [
        "\n",
        "train_X, valid_X, train_y, valid_y = train_test_split(X_scaled,y, test_size=0.3, random_state=1)\n"
      ],
      "execution_count": null,
      "outputs": []
    },
    {
      "cell_type": "code",
      "metadata": {
        "id": "mWdwYrkQGXRf"
      },
      "source": [
        "train_X=pd.DataFrame(train_X)\n",
        "valid_X=pd.DataFrame(valid_X)"
      ],
      "execution_count": null,
      "outputs": []
    },
    {
      "cell_type": "markdown",
      "metadata": {
        "id": "pSk0zea3qnoz"
      },
      "source": [
        "## Step 4: Create and train model\n"
      ]
    },
    {
      "cell_type": "markdown",
      "metadata": {
        "id": "bbPfUmcEXf6K"
      },
      "source": [
        "### 4.1 Create a logistic regression using all of the default parameters"
      ]
    },
    {
      "cell_type": "code",
      "metadata": {
        "id": "UZ60Vn1AhudK"
      },
      "source": [
        "logClassifier = LogisticRegression(random_state=1)\n"
      ],
      "execution_count": null,
      "outputs": []
    },
    {
      "cell_type": "markdown",
      "metadata": {
        "id": "jTgsM1VGMWUf"
      },
      "source": [
        "### 4.2 Fit the model to the training data"
      ]
    },
    {
      "cell_type": "code",
      "metadata": {
        "id": "TIiB85aoDcAD",
        "colab": {
          "base_uri": "https://localhost:8080/"
        },
        "outputId": "0ace20aa-6e03-49f8-c963-e5271cfd8162"
      },
      "source": [
        "logClassifier.fit(train_X,train_y)"
      ],
      "execution_count": null,
      "outputs": [
        {
          "output_type": "execute_result",
          "data": {
            "text/plain": [
              "LogisticRegression(C=1.0, class_weight=None, dual=False, fit_intercept=True,\n",
              "                   intercept_scaling=1, l1_ratio=None, max_iter=100,\n",
              "                   multi_class='auto', n_jobs=None, penalty='l2',\n",
              "                   random_state=1, solver='lbfgs', tol=0.0001, verbose=0,\n",
              "                   warm_start=False)"
            ]
          },
          "metadata": {
            "tags": []
          },
          "execution_count": 12
        }
      ]
    },
    {
      "cell_type": "markdown",
      "metadata": {
        "id": "vrBhrJ8ojYnF"
      },
      "source": [
        "### ROC Curve"
      ]
    },
    {
      "cell_type": "code",
      "metadata": {
        "id": "PmIC6b0lMQUn",
        "colab": {
          "base_uri": "https://localhost:8080/",
          "height": 314
        },
        "outputId": "8f3f2657-53d6-4b91-dd81-6530f267de3a"
      },
      "source": [
        "model_probs = logClassifier.predict_proba(valid_X)[:,1]\n",
        "ns_probs = [0 for _ in range(len(valid_y))]\n",
        "\n",
        "# calculate scores\n",
        "model_auc = roc_auc_score(valid_y, model_probs)\n",
        "ns_auc = roc_auc_score(valid_y, ns_probs)\n",
        "\n",
        "# summarize scores\n",
        "print('Logistic: ROC AUC=%.3f' % (model_auc))\n",
        "print('No Skill: ROC AUC=%.3f' % (ns_auc))\n",
        "\n",
        "# calculate roc curves\n",
        "model_fpr, model_tpr, _ = roc_curve(valid_y, model_probs)\n",
        "ns_fpr, ns_tpr, _ = roc_curve(valid_y, ns_probs)\n",
        "\n",
        "# plot the roc curve for the model\n",
        "plt.plot(model_fpr, model_tpr, linestyle='--', label='Logistic')\n",
        "plt.plot(ns_fpr, ns_tpr, linestyle='--', label='No Skill')\n",
        "\n",
        "# axis labels\n",
        "plt.xlabel('False Positive Rate')\n",
        "plt.ylabel('True Positive Rate')\n",
        "\n",
        "plt.xticks(np.arange(0, 1.1, .1))\n",
        "\n",
        "# show the legend\n",
        "plt.legend()\n",
        "# show the plot\n",
        "plt.show()"
      ],
      "execution_count": null,
      "outputs": [
        {
          "output_type": "stream",
          "text": [
            "Logistic: ROC AUC=0.958\n",
            "No Skill: ROC AUC=0.500\n"
          ],
          "name": "stdout"
        },
        {
          "output_type": "display_data",
          "data": {
            "image/png": "[encoded data removed]",
            "text/plain": [
              "<Figure size 432x288 with 1 Axes>"
            ]
          },
          "metadata": {
            "tags": [],
            "needs_background": "light"
          }
        }
      ]
    },
    {
      "cell_type": "code",
      "metadata": {
        "id": "YAcO31dIX7JE",
        "colab": {
          "base_uri": "https://localhost:8080/",
          "height": 497
        },
        "outputId": "e1a3c7ea-ebfa-4237-adc6-8fc0b0c580e6"
      },
      "source": [
        "\n",
        "precision, recall, thresholds = precision_recall_curve(valid_y, model_probs)\n",
        "\n",
        "plt.figure(figsize=(10,8))\n",
        "\n",
        "# plot the roc curve for the model\n",
        "plt.plot(recall, precision, linestyle='--', label='Logistic')\n",
        "# axis labels\n",
        "plt.xlabel('Recall')\n",
        "plt.ylabel('Precision')\n",
        "# show the legend\n",
        "plt.legend()\n",
        "\n",
        "\n",
        "plt.xticks(np.arange(0, 1.1, .1))\n",
        "\n",
        "# show the plot\n",
        "plt.show()"
      ],
      "execution_count": null,
      "outputs": [
        {
          "output_type": "display_data",
          "data": {
            "image/png": "[encoded data removed]",
            "text/plain": [
              "<Figure size 720x576 with 1 Axes>"
            ]
          },
          "metadata": {
            "tags": [],
            "needs_background": "light"
          }
        }
      ]
    },
    {
      "cell_type": "code",
      "metadata": {
        "id": "_7C9BvWWIbfg",
        "colab": {
          "base_uri": "https://localhost:8080/",
          "height": 415
        },
        "outputId": "26aa2329-3ba1-4897-d670-174d4e424d66"
      },
      "source": [
        "THRESHOLD = 0.50\n",
        "validation_predictions_threshold50 = np.where(logClassifier.predict_proba(valid_X)[:,1] > THRESHOLD, 1, 0)\n",
        "pd.DataFrame({\"predicted\":validation_predictions_threshold50, \"actual\":valid_y})\n",
        "\n",
        "\n"
      ],
      "execution_count": null,
      "outputs": [
        {
          "output_type": "execute_result",
          "data": {
            "text/html": [
              "<div>\n",
              "<style scoped>\n",
              "    .dataframe tbody tr th:only-of-type {\n",
              "        vertical-align: middle;\n",
              "    }\n",
              "\n",
              "    .dataframe tbody tr th {\n",
              "        vertical-align: top;\n",
              "    }\n",
              "\n",
              "    .dataframe thead th {\n",
              "        text-align: right;\n",
              "    }\n",
              "</style>\n",
              "<table border=\"1\" class=\"dataframe\">\n",
              "  <thead>\n",
              "    <tr style=\"text-align: right;\">\n",
              "      <th></th>\n",
              "      <th>predicted</th>\n",
              "      <th>actual</th>\n",
              "    </tr>\n",
              "  </thead>\n",
              "  <tbody>\n",
              "    <tr>\n",
              "      <th>2764</th>\n",
              "      <td>0</td>\n",
              "      <td>0</td>\n",
              "    </tr>\n",
              "    <tr>\n",
              "      <th>4767</th>\n",
              "      <td>0</td>\n",
              "      <td>0</td>\n",
              "    </tr>\n",
              "    <tr>\n",
              "      <th>3814</th>\n",
              "      <td>0</td>\n",
              "      <td>0</td>\n",
              "    </tr>\n",
              "    <tr>\n",
              "      <th>3499</th>\n",
              "      <td>0</td>\n",
              "      <td>0</td>\n",
              "    </tr>\n",
              "    <tr>\n",
              "      <th>2735</th>\n",
              "      <td>0</td>\n",
              "      <td>0</td>\n",
              "    </tr>\n",
              "    <tr>\n",
              "      <th>...</th>\n",
              "      <td>...</td>\n",
              "      <td>...</td>\n",
              "    </tr>\n",
              "    <tr>\n",
              "      <th>4140</th>\n",
              "      <td>0</td>\n",
              "      <td>0</td>\n",
              "    </tr>\n",
              "    <tr>\n",
              "      <th>3969</th>\n",
              "      <td>0</td>\n",
              "      <td>0</td>\n",
              "    </tr>\n",
              "    <tr>\n",
              "      <th>2535</th>\n",
              "      <td>0</td>\n",
              "      <td>0</td>\n",
              "    </tr>\n",
              "    <tr>\n",
              "      <th>1361</th>\n",
              "      <td>0</td>\n",
              "      <td>0</td>\n",
              "    </tr>\n",
              "    <tr>\n",
              "      <th>1458</th>\n",
              "      <td>0</td>\n",
              "      <td>0</td>\n",
              "    </tr>\n",
              "  </tbody>\n",
              "</table>\n",
              "<p>1500 rows × 2 columns</p>\n",
              "</div>"
            ],
            "text/plain": [
              "      predicted  actual\n",
              "2764          0       0\n",
              "4767          0       0\n",
              "3814          0       0\n",
              "3499          0       0\n",
              "2735          0       0\n",
              "...         ...     ...\n",
              "4140          0       0\n",
              "3969          0       0\n",
              "2535          0       0\n",
              "1361          0       0\n",
              "1458          0       0\n",
              "\n",
              "[1500 rows x 2 columns]"
            ]
          },
          "metadata": {
            "tags": []
          },
          "execution_count": 15
        }
      ]
    },
    {
      "cell_type": "code",
      "metadata": {
        "id": "fYqgiY1xeb0P",
        "colab": {
          "base_uri": "https://localhost:8080/"
        },
        "outputId": "eaf7d4d9-31e2-4632-864d-7e4f0377f591"
      },
      "source": [
        "print(confusion_matrix(valid_y, validation_predictions_threshold50))\n",
        "print(accuracy_score(valid_y, validation_predictions_threshold50))\n",
        "print(precision_score(valid_y, validation_predictions_threshold50))\n",
        "print(recall_score(valid_y, validation_predictions_threshold50))"
      ],
      "execution_count": null,
      "outputs": [
        {
          "output_type": "stream",
          "text": [
            "[[1340   11]\n",
            " [  52   97]]\n",
            "0.958\n",
            "0.8981481481481481\n",
            "0.6510067114093959\n"
          ],
          "name": "stdout"
        }
      ]
    },
    {
      "cell_type": "code",
      "metadata": {
        "id": "D9-MlOV1MHyr",
        "colab": {
          "base_uri": "https://localhost:8080/",
          "height": 415
        },
        "outputId": "203f3bf3-0ef2-4b4a-b492-9dfcc2226d59"
      },
      "source": [
        "THRESHOLD = 0.002\n",
        "validation_predictions_threshold2 = np.where(logClassifier.predict_proba(valid_X)[:,1] > THRESHOLD, 1, 0)\n",
        "pd.DataFrame({\"predicted\":validation_predictions_threshold2, \"actual\":valid_y})\n"
      ],
      "execution_count": null,
      "outputs": [
        {
          "output_type": "execute_result",
          "data": {
            "text/html": [
              "<div>\n",
              "<style scoped>\n",
              "    .dataframe tbody tr th:only-of-type {\n",
              "        vertical-align: middle;\n",
              "    }\n",
              "\n",
              "    .dataframe tbody tr th {\n",
              "        vertical-align: top;\n",
              "    }\n",
              "\n",
              "    .dataframe thead th {\n",
              "        text-align: right;\n",
              "    }\n",
              "</style>\n",
              "<table border=\"1\" class=\"dataframe\">\n",
              "  <thead>\n",
              "    <tr style=\"text-align: right;\">\n",
              "      <th></th>\n",
              "      <th>predicted</th>\n",
              "      <th>actual</th>\n",
              "    </tr>\n",
              "  </thead>\n",
              "  <tbody>\n",
              "    <tr>\n",
              "      <th>2764</th>\n",
              "      <td>1</td>\n",
              "      <td>0</td>\n",
              "    </tr>\n",
              "    <tr>\n",
              "      <th>4767</th>\n",
              "      <td>0</td>\n",
              "      <td>0</td>\n",
              "    </tr>\n",
              "    <tr>\n",
              "      <th>3814</th>\n",
              "      <td>0</td>\n",
              "      <td>0</td>\n",
              "    </tr>\n",
              "    <tr>\n",
              "      <th>3499</th>\n",
              "      <td>1</td>\n",
              "      <td>0</td>\n",
              "    </tr>\n",
              "    <tr>\n",
              "      <th>2735</th>\n",
              "      <td>1</td>\n",
              "      <td>0</td>\n",
              "    </tr>\n",
              "    <tr>\n",
              "      <th>...</th>\n",
              "      <td>...</td>\n",
              "      <td>...</td>\n",
              "    </tr>\n",
              "    <tr>\n",
              "      <th>4140</th>\n",
              "      <td>0</td>\n",
              "      <td>0</td>\n",
              "    </tr>\n",
              "    <tr>\n",
              "      <th>3969</th>\n",
              "      <td>1</td>\n",
              "      <td>0</td>\n",
              "    </tr>\n",
              "    <tr>\n",
              "      <th>2535</th>\n",
              "      <td>1</td>\n",
              "      <td>0</td>\n",
              "    </tr>\n",
              "    <tr>\n",
              "      <th>1361</th>\n",
              "      <td>1</td>\n",
              "      <td>0</td>\n",
              "    </tr>\n",
              "    <tr>\n",
              "      <th>1458</th>\n",
              "      <td>0</td>\n",
              "      <td>0</td>\n",
              "    </tr>\n",
              "  </tbody>\n",
              "</table>\n",
              "<p>1500 rows × 2 columns</p>\n",
              "</div>"
            ],
            "text/plain": [
              "      predicted  actual\n",
              "2764          1       0\n",
              "4767          0       0\n",
              "3814          0       0\n",
              "3499          1       0\n",
              "2735          1       0\n",
              "...         ...     ...\n",
              "4140          0       0\n",
              "3969          1       0\n",
              "2535          1       0\n",
              "1361          1       0\n",
              "1458          0       0\n",
              "\n",
              "[1500 rows x 2 columns]"
            ]
          },
          "metadata": {
            "tags": []
          },
          "execution_count": 17
        }
      ]
    },
    {
      "cell_type": "code",
      "metadata": {
        "id": "aGdpSyQcePh0",
        "colab": {
          "base_uri": "https://localhost:8080/"
        },
        "outputId": "457d914a-171f-41cf-aa91-5d8b78270256"
      },
      "source": [
        "print(confusion_matrix(valid_y, validation_predictions_threshold2))\n",
        "print(accuracy_score(valid_y, validation_predictions_threshold2))\n",
        "print(precision_score(valid_y, validation_predictions_threshold2))\n",
        "print(recall_score(valid_y, validation_predictions_threshold2))"
      ],
      "execution_count": null,
      "outputs": [
        {
          "output_type": "stream",
          "text": [
            "[[562 789]\n",
            " [  2 147]]\n",
            "0.4726666666666667\n",
            "0.15705128205128205\n",
            "0.9865771812080537\n"
          ],
          "name": "stdout"
        }
      ]
    },
    {
      "cell_type": "markdown",
      "metadata": {
        "id": "Hsiw_sNfRxpp"
      },
      "source": [
        "# **Discussion**"
      ]
    },
    {
      "cell_type": "markdown",
      "metadata": {
        "id": "4ekQZzYngPk8"
      },
      "source": [
        "We used the same dataset Universal Bank in three assignments before i.e, Assignment 2, 4, and 6. We will be combining output of the previous assignments and this one and make recommendations.\n"
      ]
    },
    {
      "cell_type": "markdown",
      "metadata": {
        "id": "TMFRnHKsgsa4"
      },
      "source": [
        "\n",
        "# Outcome of Assignment 2 "
      ]
    },
    {
      "cell_type": "markdown",
      "metadata": {
        "id": "XwDFnE04hL8D"
      },
      "source": [
        "The predictor used is 'Accuracy', Algorithm used - KNN\n",
        "\n",
        "\n",
        "*   Based on the accuracy performance measure the optimal value comes out to be  k = 5. However, accuracy parameter doesn't convey much about the recall of the model. That is we do not know how the model is doing when it comes to predict the right number of potential customers for the loan. It may happen the accuracy is high of the model but it has low recall value. Therefore, I do not recommend using this model.\n",
        "\n",
        "\n"
      ]
    },
    {
      "cell_type": "markdown",
      "metadata": {
        "id": "YFQYybk-jWcC"
      },
      "source": [
        "# **Outcome of Assignment 4**"
      ]
    },
    {
      "cell_type": "markdown",
      "metadata": {
        "id": "h9hCNXo_jhR5"
      },
      "source": [
        "Performance measure used: Accuracy, recall, and precision\n",
        "Algorithm: Naive Bayes\n",
        "\n",
        "    Accuracy 0.902\n",
        "    Recall 0.902\n",
        "    Precision 0.813604\n",
        "    Confusion Matrix:\n",
        "    array([[1804,    0],\n",
        "       [ 196,    0]])\n",
        "\n",
        "\n",
        "From confusion matrix we can see that a huge number of FN is there and TP and FP are 0. This model is not surving the purpose of solving the problem of business model, i.e, predicting right number of customers who are potential customer for loan. Therefore, this model is not recommended."
      ]
    },
    {
      "cell_type": "markdown",
      "metadata": {
        "id": "JnNWSWEkxzZ0"
      },
      "source": [
        "# **Outcome of Assignment 6**"
      ]
    },
    {
      "cell_type": "markdown",
      "metadata": {
        "id": "hrnQE5r6x4me"
      },
      "source": [
        "Performance measure used: Accuracy, Recall, Precision and F1 score\n",
        "Algorithms used: Decision Tree, Random Forest, XGBoost\n",
        "\n",
        "** 1. Decision Tree (with default and with hyperparmater tuning)**\n",
        "\n",
        "The model seem to work fine with considerably good accuracy of 0.97 Below is the output of the performance measure with default parameters:\n",
        "\n",
        "    Confusion matrix:\n",
        "        [[1335   16]\n",
        "          [  19  130]]\n",
        "    Accuracy:  0.9766666666666667\n",
        "    Precision:  0.8904109589041096\n",
        "    Recall:  0.87248322147651\n",
        "    F1 Score:  0.8813559322033899\n",
        "\n",
        "For this, the model performance needs to improved on correctly predicting more and more FN. Therefore, we need to improve the recall performance measure.\n",
        "\n",
        "By improving FN, we will be predicting correctly the customers who are potential customer to the bank and reducing the posiibility of losing potential customers for personal loan requirement due to incorrect prediction.\n",
        "\n",
        "By looking at the confusion matrix, recall score and other performance measure after running the decision tree model with hyperparmater tuning, the recall score doesn't improve, in fact, it is performning worse than default parameters. Therefore, this model is not recommended.\n",
        "\n",
        "So far, decision tree with default parameters is performing the best and we will be comapring other model performance with this one in order to pick the best performing model.\n",
        "\n",
        "**2. Random Forest (with default and with hyperparmater tuning)**\n",
        "\n",
        "Below is the output of the performance measure with default parameters:\n",
        "\n",
        "    Confusion Matrix: \n",
        "          [[1348    3]\n",
        "            [  25  124]]\n",
        "\n",
        "    Accuracy:  0.9813333333333333\n",
        "    Precision:  0.9763779527559056\n",
        "    Recall:  0.8322147651006712\n",
        "    F1 Score:  0.8985507246376812\n",
        "\n",
        "Although, the random forest modelwith default parameters on run gives a higher accuracy when compared to the decision tree with default parameters but the recall is lower in the random forest case. The improved accuracy and precision score is because this model predicts correctly higher number TN and lesser number of FP. But, the model will work in benefit of the bank if it has higher recall score or lower number of FN. Therefore, when compared with decision tree with default parameters and random forest with default parameters, still decision tree with default parameters is performing the best.\n",
        "\n",
        "Now, I will compare the performance of hyperparamater tunned random forest model with the default parameter decision tree to find out which one performing better.\n",
        "\n",
        "After hyperparamter tuning on random forest, the performance parametes comes out to be:\n",
        "\n",
        "    Confusion Matrix: \n",
        "        [[1347    4]\n",
        "        [  23  126]]\n",
        "    Accuracy:  0.982\n",
        "    Precision:  0.9692307692307692\n",
        "    Recall:  0.8456375838926175\n",
        "    F1 Score:  0.9032258064516129\n",
        "\n",
        "By fine tuning the hyperparameters of random forest model we get higher accuracy compared to the default random forest and recall score is improved but when comparing with default decision tree model the recall score is still not higher or in fact is lower. A higher true negative number is contributing in improving the precision of the model and overall accuracy of the model but is not solving the purpose of predicting the right or correct TP or potential personal loan customer for the bank. Therefore, this model is still not recommended over the decision tree with default parameters.\n",
        "\n",
        "Now, I will comparing the performance of XGBoost model with default and Hyperparamter paramerter to conclude better performing model.\n",
        "\n",
        "**3. XGboost (with default and with hyperparmater tuning)**\n",
        "\n",
        "After running XGboost with default parameters, performance measures comes out to be:\n",
        "\n",
        "    Confusion Matrix: \n",
        "      [[1343    8]\n",
        "      [  21  128]]\n",
        "    Accuracy:  0.9806666666666667\n",
        "    Precision:  0.9411764705882353\n",
        "    Recall:  0.8590604026845637\n",
        "\n",
        "On comparing XGboost defualt parameters with Decision Tree default parameters, the DT default still has higher recall. Therefore, I would not recommend this model over the decision tree default model.\n",
        "\n",
        "Finally, on hyperparameter tunning of XGboost model, the performance measure comes out to be: Confusion Matrix: [[1346 5] [ 18 131]] Accuracy Score: 0.9846666666666667 Precision Score: 0.9632352941176471 Recall Score: 0.8791946308724832 F1 Score: 0.9192982456140351\n",
        "\n",
        "On comparining with Decision Tree default parameters, the XGboost model with hyperparameter tuning has a slighly improved recall score which is due to a little improvement in predicting FN. Although, there is not a big difference but with more data, this XGBoost model with hyperparameter tunning will perform better over the Decision Tree default parameters. Also, accuracy, precision and F1 score, i.e, average of recall and precision also is higher.\n",
        "\n",
        "**Therefore, out of these three models, XGBoost with hyperparameter truning works the best here.**\n",
        "\n"
      ]
    },
    {
      "cell_type": "markdown",
      "metadata": {
        "id": "Ik9xK5_rzUso"
      },
      "source": [
        "# Outcome of Assignment 7"
      ]
    },
    {
      "cell_type": "markdown",
      "metadata": {
        "id": "syZg5xfpzaBM"
      },
      "source": [
        "Performance measure used: Accuracy, Precision and Recall\n",
        "ROC curve, precision and recall chart\n",
        "\n",
        "Algorithm used: Logistic regression\n",
        "\n",
        "    Confusion matrix:\n",
        "    [[562 789]\n",
        "    [  2 147]]\n",
        "    Acuuracy: 0.4726666666666667\n",
        "    Precision: 0.15705128205128205\n",
        "    Recall: 0.9865771812080537\n",
        "\n",
        "After looking at the confusion matrix, model does really well at predicting FN. Gives a really good recall score, which is the requirement of the model to predict potential customer for loan. Although, it shows a high FP = 789 which means more work for the business to segregate FP from TP but that can be resolved.\n",
        "\n",
        "From the ROC curve model, we can see model does well.\n",
        "From precision and recall curve we can see they are inversely related if recall is high then precision value going to be low and vice versa. \n",
        "\n",
        "So, we have to pick the trade off.\n",
        "\n",
        "The high recall value is obtained at a very low thresold of 0.0002\n"
      ]
    },
    {
      "cell_type": "markdown",
      "metadata": {
        "id": "4NRto7sj1j1Q"
      },
      "source": [
        "# Comparing All models"
      ]
    },
    {
      "cell_type": "markdown",
      "metadata": {
        "id": "uxSw_x2R1pJi"
      },
      "source": [
        "On comparing all the performance measure of all the models, the XGBoost works the better than other models because it has good accuracy, precision, and quite high recall score. However, in Logistic Regression model we get highest recall score but it gives quite low accuracy, therefore, it is not advicable to recommend this model. \n",
        "\n",
        "I would recommend XGBoost for this case. As Low chances of losing a potential customer, a good accuracy and precision score is shown by this model. \n",
        "\n",
        "The models needs to be re-evaluated if more data is gathered to check how it performs then.\n"
      ]
    }
  ]
}
